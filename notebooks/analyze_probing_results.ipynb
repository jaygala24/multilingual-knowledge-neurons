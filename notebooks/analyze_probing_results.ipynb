{
 "cells": [
  {
   "cell_type": "markdown",
   "metadata": {},
   "source": [
    "## Analyzing Probing Results for multilingual LMs\n"
   ]
  },
  {
   "cell_type": "code",
   "execution_count": null,
   "metadata": {},
   "outputs": [],
   "source": [
    "import os\n",
    "import json\n",
    "from collections import Counter\n",
    "import numpy as np\n",
    "import plotly.express as px\n",
    "import plotly.graph_objects as go"
   ]
  },
  {
   "cell_type": "code",
   "execution_count": null,
   "metadata": {},
   "outputs": [],
   "source": [
    "base_dir = os.getcwd()\n",
    "mpararel_en_path = os.path.join(base_dir, \"results/mpararel_en_P101_bert_base_multilingual_cased.json\")\n",
    "mpararel_fr_path = os.path.join(base_dir, \"results/mpararel_fr_P101_bert_base_multilingual_cased.json\")\n",
    "\n",
    "with open(mpararel_en_path, \"r\") as f:\n",
    "    mpararel_en = json.load(f)[\"en\"][\"P101\"]\n",
    "\n",
    "with open(mpararel_fr_path, \"r\") as f:\n",
    "    mpararel_fr = json.load(f)[\"fr\"][\"P101\"]"
   ]
  },
  {
   "cell_type": "code",
   "execution_count": null,
   "metadata": {},
   "outputs": [],
   "source": [
    "def plot_neuron_distribution(coarse_kn_counter_bag, refined_kn_counter_bag, layers, title):\n",
    "    fig = go.Figure()\n",
    "    fig.add_trace(go.Bar(\n",
    "        x=layers,\n",
    "        y=np.array([coarse_kn_counter_bag[i] for i in range(len(layers))]),\n",
    "        name=\"coarse knowledge neurons\",\n",
    "    ))\n",
    "    fig.add_trace(go.Bar(\n",
    "        x=layers,\n",
    "        y=np.array([refined_kn_counter_bag[i] for i in range(len(layers))]),\n",
    "        name=\"refined knowledge neurons\",\n",
    "    ))\n",
    "    fig.update_layout(\n",
    "        title=title,\n",
    "        barmode=\"group\",\n",
    "        xaxis_title=\"Layer\",\n",
    "        yaxis_title=\"Percentage\"\n",
    "    )\n",
    "    fig.show()"
   ]
  },
  {
   "cell_type": "code",
   "execution_count": null,
   "metadata": {},
   "outputs": [],
   "source": [
    "# analysis for `en` + `P101` results\n",
    "coarse_kn_counter_bag_en = Counter()\n",
    "refined_kn_counter_bag_en = Counter()\n",
    "total_coarse_neurons = 0\n",
    "total_refined_neurons = 0\n",
    "\n",
    "for _, coarse_neurons_list, refined_neurons in mpararel_en:\n",
    "    # tracking coarse knowledge neurons\n",
    "    for coarse_neurons in coarse_neurons_list:\n",
    "        coarse_kn_counter_bag_en.update([neuron[0] for neuron in coarse_neurons])\n",
    "        total_coarse_neurons += len(coarse_neurons)\n",
    "    \n",
    "    # tracking refined knowledge neurons\n",
    "    refined_kn_counter_bag_en.update([neuron[0] for neuron in refined_neurons])\n",
    "    total_refined_neurons += len(refined_neurons)\n",
    "\n",
    "for k, v in coarse_kn_counter_bag_en.items():\n",
    "    coarse_kn_counter_bag_en[k] /= total_coarse_neurons\n",
    "\n",
    "for k, v in refined_kn_counter_bag_en.items():\n",
    "    refined_kn_counter_bag_en[k] /= total_coarse_neurons\n",
    "\n",
    "layers = np.array([i + 1 for i in range(12)])\n",
    "plot_neuron_distribution(\n",
    "    coarse_kn_counter_bag_en, refined_kn_counter_bag_en, layers, \n",
    "    title=\"Knowledge neurons distribution for P101 relations in English\"\n",
    ")"
   ]
  },
  {
   "cell_type": "code",
   "execution_count": null,
   "metadata": {},
   "outputs": [],
   "source": [
    "# analysis for `fr` + `P101` results\n",
    "coarse_kn_counter_bag_fr = Counter()\n",
    "refined_kn_counter_bag_fr = Counter()\n",
    "total_coarse_neurons = 0\n",
    "total_refined_neurons = 0\n",
    "\n",
    "for _, coarse_neurons_list, refined_neurons in mpararel_fr:\n",
    "    # tracking coarse knowledge neurons\n",
    "    for coarse_neurons in coarse_neurons_list:\n",
    "        coarse_kn_counter_bag_fr.update([neuron[0] for neuron in coarse_neurons])\n",
    "        total_coarse_neurons += len(coarse_neurons)\n",
    "    \n",
    "    # tracking refined knowledge neurons\n",
    "    refined_kn_counter_bag_fr.update([neuron[0] for neuron in refined_neurons])\n",
    "    total_refined_neurons += len(refined_neurons)\n",
    "\n",
    "for k, v in coarse_kn_counter_bag_fr.items():\n",
    "    coarse_kn_counter_bag_fr[k] /= total_coarse_neurons\n",
    "\n",
    "for k, v in refined_kn_counter_bag_fr.items():\n",
    "    refined_kn_counter_bag_fr[k] /= total_coarse_neurons\n",
    "\n",
    "layers = np.array([i + 1 for i in range(12)])\n",
    "plot_neuron_distribution(\n",
    "    coarse_kn_counter_bag_fr, refined_kn_counter_bag_fr, layers, \n",
    "    title=\"Knowledge neurons distribution for P101 relations in French\"\n",
    ")"
   ]
  },
  {
   "cell_type": "code",
   "execution_count": null,
   "metadata": {},
   "outputs": [],
   "source": [
    "# analysis for `en` and `fr` + `P101` results\n",
    "coarse_kn_counter_bag = coarse_kn_counter_bag_en & coarse_kn_counter_bag_fr\n",
    "refined_kn_counter_bag = refined_kn_counter_bag_en & refined_kn_counter_bag_fr\n",
    "total_coarse_neurons = 0\n",
    "total_refined_neurons = 0\n",
    "\n",
    "for k, v in coarse_kn_counter_bag.items():\n",
    "    total_coarse_neurons += v\n",
    "\n",
    "for k, v in refined_kn_counter_bag.items():\n",
    "    total_refined_neurons += v\n",
    "    \n",
    "for k, v in coarse_kn_counter_bag.items():\n",
    "    coarse_kn_counter_bag[k] /= total_coarse_neurons\n",
    "\n",
    "for k, v in refined_kn_counter_bag.items():\n",
    "    refined_kn_counter_bag[k] /= total_coarse_neurons\n",
    "\n",
    "layers = np.array([i + 1 for i in range(12)])\n",
    "plot_neuron_distribution(\n",
    "    coarse_kn_counter_bag_fr, refined_kn_counter_bag_fr, layers, \n",
    "    title=\"Knowledge neurons distribution for P101 relations in English and French intersection\"\n",
    ")"
   ]
  },
  {
   "cell_type": "code",
   "execution_count": null,
   "metadata": {},
   "outputs": [],
   "source": []
  }
 ],
 "metadata": {
  "kernelspec": {
   "display_name": "Python 3.8.11 64-bit ('ml')",
   "language": "python",
   "name": "python3"
  },
  "language_info": {
   "name": "python",
   "version": "3.8.11"
  },
  "orig_nbformat": 4,
  "vscode": {
   "interpreter": {
    "hash": "0ced18360181a910bdd2b0b7dbe0453605940dba8f00859a59987598ad1388ee"
   }
  }
 },
 "nbformat": 4,
 "nbformat_minor": 2
}
